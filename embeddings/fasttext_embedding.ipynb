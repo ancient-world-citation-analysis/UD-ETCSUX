{
 "cells": [
  {
   "cell_type": "code",
   "execution_count": 1,
   "metadata": {},
   "outputs": [],
   "source": [
    "from gensim.models import FastText\n",
    "import pandas as pd"
   ]
  },
  {
   "cell_type": "markdown",
   "metadata": {},
   "source": [
    "### Train fasttext embedding"
   ]
  },
  {
   "cell_type": "code",
   "execution_count": 2,
   "metadata": {},
   "outputs": [
    {
     "name": "stderr",
     "output_type": "stream",
     "text": [
      "/var/folders/h6/_dg2f8_54bv4lnnn36ny5ggw0000gn/T/ipykernel_62336/3067424915.py:2: DtypeWarning: Columns (8,15,18,19,20) have mixed types. Specify dtype option on import or set low_memory=False.\n",
      "  etcsri = pd.read_csv(\"etcsri.csv\")\n"
     ]
    }
   ],
   "source": [
    "etcsl = pd.read_csv(\"etcsl.csv\")\n",
    "etcsri = pd.read_csv(\"etcsri.csv\")"
   ]
  },
  {
   "cell_type": "code",
   "execution_count": 3,
   "metadata": {},
   "outputs": [],
   "source": [
    "lines = []\n",
    "last_seen_id_line = 100000\n",
    "temp = []\n",
    "for idx, row in etcsl.iterrows():\n",
    "    if last_seen_id_line != row.id_line:\n",
    "        if temp != []:\n",
    "            lines.append(temp)\n",
    "        last_seen_id_line = row.id_line\n",
    "        temp = []\n",
    "        temp.append(row.form)\n",
    "    else:\n",
    "        temp.append(row.form)\n"
   ]
  },
  {
   "cell_type": "code",
   "execution_count": 4,
   "metadata": {},
   "outputs": [],
   "source": [
    "etcsri_lines = []\n",
    "last_seen_line = 100000\n",
    "last_seen_page = 100000\n",
    "temp = []\n",
    "for idx, row in etcsri.iterrows():\n",
    "    page, line, word_id = tuple(row.id_word.split(\".\"))\n",
    "    if last_seen_line != line or last_seen_page!= page:\n",
    "        if temp != []:\n",
    "            etcsri_lines.append(temp)\n",
    "        last_seen_page = page\n",
    "        last_seen_line = line\n",
    "        temp = []\n",
    "        temp.append(row.form)\n",
    "    else:\n",
    "        temp.append(row.form)"
   ]
  },
  {
   "cell_type": "code",
   "execution_count": 6,
   "metadata": {},
   "outputs": [
    {
     "name": "stdout",
     "output_type": "stream",
     "text": [
      "Sumerian sentence in training: 277247\n"
     ]
    }
   ],
   "source": [
    "sux_corpus = lines + etcsri_lines\n",
    "print(\"Sumerian sentence in training: {}\".format(len(sux_corpus)))"
   ]
  },
  {
   "cell_type": "markdown",
   "metadata": {},
   "source": [
    "#### Set up FastText Model"
   ]
  },
  {
   "cell_type": "code",
   "execution_count": 7,
   "metadata": {},
   "outputs": [],
   "source": [
    "model = FastText(vector_size=512, window=10, min_count=2)\n",
    "model.build_vocab(corpus_iterable=sux_corpus)"
   ]
  },
  {
   "cell_type": "code",
   "execution_count": 8,
   "metadata": {},
   "outputs": [
    {
     "data": {
      "text/plain": [
       "(26995700, 33811600)"
      ]
     },
     "execution_count": 8,
     "metadata": {},
     "output_type": "execute_result"
    }
   ],
   "source": [
    "model.train(corpus_iterable=sux_corpus, total_examples=len(sux_corpus), epochs=50)  # Adjust epochs as needed"
   ]
  },
  {
   "cell_type": "markdown",
   "metadata": {},
   "source": [
    "#### Test model on some words"
   ]
  },
  {
   "cell_type": "code",
   "execution_count": 28,
   "metadata": {},
   "outputs": [
    {
     "data": {
      "text/plain": [
       "[('kalag-kalag-ga', 0.9821982979774475),\n",
       " ('lag-ga', 0.8817840218544006),\n",
       " ('kalag-ga-a', 0.8638339042663574),\n",
       " ('kalag-ga-ar', 0.8539075255393982),\n",
       " ('kalag-kalag', 0.8514988422393799),\n",
       " ('kalag-ga-kam', 0.845146894454956),\n",
       " ('zalag-ga', 0.8418394923210144),\n",
       " ('ag-ga', 0.8318354487419128),\n",
       " ('kalag-ga-ŋa₂', 0.8310603499412537),\n",
       " ('nam-kalag-ga', 0.8265538215637207)]"
      ]
     },
     "execution_count": 28,
     "metadata": {},
     "output_type": "execute_result"
    }
   ],
   "source": [
    "similar_words = model.wv.most_similar('kalag-ga', topn=10) ### kalag-ga means strong\n",
    "similar_words"
   ]
  },
  {
   "cell_type": "code",
   "execution_count": 29,
   "metadata": {},
   "outputs": [
    {
     "data": {
      "text/plain": [
       "27948     strong\n",
       "147433    strong\n",
       "Name: gw, dtype: object"
      ]
     },
     "execution_count": 29,
     "metadata": {},
     "output_type": "execute_result"
    }
   ],
   "source": [
    "etcsl[etcsl[\"form\"] == \"kalag-kalag-ga\"][\"gw\"] ### kalag-kalag-ga means strong"
   ]
  },
  {
   "cell_type": "code",
   "execution_count": 31,
   "metadata": {},
   "outputs": [],
   "source": [
    "# model.save(\"sumerian_fasttext.model\")"
   ]
  }
 ],
 "metadata": {
  "kernelspec": {
   "display_name": "base",
   "language": "python",
   "name": "python3"
  },
  "language_info": {
   "codemirror_mode": {
    "name": "ipython",
    "version": 3
   },
   "file_extension": ".py",
   "mimetype": "text/x-python",
   "name": "python",
   "nbconvert_exporter": "python",
   "pygments_lexer": "ipython3",
   "version": "3.9.7"
  }
 },
 "nbformat": 4,
 "nbformat_minor": 2
}
