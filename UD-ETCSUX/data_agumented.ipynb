{
 "cells": [
  {
   "cell_type": "code",
   "execution_count": 28,
   "metadata": {},
   "outputs": [
    {
     "name": "stderr",
     "output_type": "stream",
     "text": [
      "/var/folders/h6/_dg2f8_54bv4lnnn36ny5ggw0000gn/T/ipykernel_87453/1776084184.py:4: DtypeWarning: Columns (8,15,18,19,20) have mixed types. Specify dtype option on import or set low_memory=False.\n",
      "  estcri = pd.read_csv(\"../embeddings/etcsri.csv\")\n"
     ]
    }
   ],
   "source": [
    "import pandas as pd\n",
    "import random\n",
    "cleaned_examples = pd.read_csv('cleaned_examples.csv')\n",
    "estcri = pd.read_csv(\"../embeddings/etcsri.csv\")\n",
    "estcl = pd.read_csv(\"../embeddings/etcsl.csv\")\n",
    "cf_dict = {}\n",
    "for idx, row in estcri.iterrows():\n",
    "    cf_dict[row.form] = row.cf\n",
    "for idx, row in estcl.iterrows():\n",
    "    cf_dict[row.form] = row.cf"
   ]
  },
  {
   "cell_type": "markdown",
   "metadata": {},
   "source": [
    "### Notebook for data agumentation."
   ]
  },
  {
   "cell_type": "code",
   "execution_count": 2,
   "metadata": {},
   "outputs": [],
   "source": [
    "import gensim\n",
    "ft_model = gensim.models.KeyedVectors.load(\"../embeddings/sumerian_lemma_fasttext.model\")"
   ]
  },
  {
   "cell_type": "code",
   "execution_count": 47,
   "metadata": {},
   "outputs": [],
   "source": [
    "cf = []\n",
    "form = []\n",
    "for idx, row in cleaned_examples.iterrows():\n",
    "    if 1:\n",
    "        new_form = ft_model.wv.most_similar(row.form, topn=1)[0][0]\n",
    "        try:\n",
    "            new_cf = cf_dict[new_form]\n",
    "            if type(new_cf) == type(0.1):\n",
    "                new_cf = row.cf\n",
    "        except Exception as e:\n",
    "            cf.append(row.cf)\n",
    "            form.append(row.form)\n",
    "            continue\n",
    "        cf.append(new_cf)\n",
    "        form.append(new_form)\n",
    "    else:\n",
    "        cf.append(row.cf)\n",
    "        form.append(row.form)\n",
    "cleaned_examples[\"form\"] = form\n",
    "cleaned_examples[\"cf\"] = cf"
   ]
  },
  {
   "cell_type": "code",
   "execution_count": 51,
   "metadata": {},
   "outputs": [],
   "source": [
    "cleaned_examples.to_csv(\"extra_data.csv\", index=False)"
   ]
  }
 ],
 "metadata": {
  "kernelspec": {
   "display_name": "base",
   "language": "python",
   "name": "python3"
  },
  "language_info": {
   "codemirror_mode": {
    "name": "ipython",
    "version": 3
   },
   "file_extension": ".py",
   "mimetype": "text/x-python",
   "name": "python",
   "nbconvert_exporter": "python",
   "pygments_lexer": "ipython3",
   "version": "3.9.7"
  }
 },
 "nbformat": 4,
 "nbformat_minor": 2
}
